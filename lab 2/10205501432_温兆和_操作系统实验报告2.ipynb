{
 "cells": [
  {
   "cell_type": "markdown",
   "id": "9215383c-06df-4a6f-a629-dcf037eb7fad",
   "metadata": {},
   "source": [
    "# 操作系统 实验报告2\n",
    "温兆和 10205501432\n",
    "\n",
    "## 实验背景\n",
    "在本次实验中，我们要在MINIX 3中实现Earliest-Deadline-First进程调度。也就是说，用户可以通过`chrt(x)`系统调用把进程的deadline修改为调用后的$x$秒，如果deadline到了以后进程还没有 运行完，系统就会强制结束该进程。\n",
    "## 实验过程\n",
    "### I.在MINIX操作系统中添加`chrt`系统调用\n",
    "这一步，我们会从应用层到服务层再深入到内核层，在MINIX系统中添加一个可以修改进程最长运行时间的系统调用。\n",
    "#### 应用层\n",
    "应用层中，`chrt`函数会调用`_syscall`，通过消息结构体`m`把进程的deadline传递到服务层。\n",
    "\n",
    "首先，在`/usr/src/include/unistd.h`中添加`chrt`函数定义。其中，`chrt`函数的定义被添加在第$91$行，需要传入一个长整型的deadline："
   ]
  },
  {
   "cell_type": "code",
   "execution_count": null,
   "id": "41c2d302-c275-43fe-91e6-3c54c5e63aad",
   "metadata": {},
   "outputs": [],
   "source": [
    "__BEGIN_DECLS\n",
    "__dead void _exit(int);\n",
    "int access(const char *, int);\n",
    "unsigned int alarm(unsigned int);\n",
    "int chdir(const char *);\n",
    "int chrt(long);\n",
    "#if defined(_POSIX_C_SOURCE) || defined(_XOPEN_SOURCE)"
   ]
  },
  {
   "cell_type": "markdown",
   "id": "d785965e-4056-4d91-bcdf-45b328c7114c",
   "metadata": {},
   "source": [
    "在`/usr/src/minix/lib/libc/sys/chrt.c`中添加`chrt`函数实现。它将获取调用`chrt`时的时间，把这个时间与deadline相加获得进程最晚应该停止运行的时间，将这个时间存入消息结构体`m`中并通过系统调用`_syscall()`传递到服务层。同时，调用`alarm()`，使该进程在到达deadline后被强制结束。"
   ]
  },
  {
   "cell_type": "code",
   "execution_count": null,
   "id": "5d31ea82-4705-4c42-96c8-f4c2b0b74d5d",
   "metadata": {},
   "outputs": [],
   "source": [
    "#include <lib.h>\n",
    "#include <stdio.h>\n",
    "#include <string.h>\n",
    "#include <unistd.h>\n",
    "#include <sys/time.h>\n",
    "\n",
    "int chrt(long deadline)\n",
    "{\n",
    "    struct timeval tv;\n",
    "    struct timezone tz;\n",
    "    message m;\n",
    "    memset(&m,0,sizeof(m));\n",
    "    unsigned int us_ddl = (unsigned int)deadline;\n",
    "    alarm(us_ddl);//set alarm\n",
    "    if(deadline>0)//record present time and calculate deadline\n",
    "    {\n",
    "        gettimeofday(&tv,&tz);\n",
    "        deadline = tv.tv_sec+deadline;\n",
    "    }\n",
    "    //save and send deadline to service layer\n",
    "    m.m2_l1=deadline;\n",
    "    return(_syscall(PM_PROC_NR,PM_CHRT,&m));\n",
    "}"
   ]
  },
  {
   "cell_type": "markdown",
   "id": "20688097-1ad0-49e6-9450-82326308a130",
   "metadata": {},
   "source": [
    "在`/usr/src/minix/lib/libc/sys/Makefile.inc`文件中添加`chrt.c`条目。值得注意的是，最好不要使用Windows自带的写字板或者记事本来修改这个文件，否则会破坏这个文件的格式，导致无法编译。"
   ]
  },
  {
   "cell_type": "code",
   "execution_count": null,
   "id": "9b0016d2-7c12-41cd-91d8-aecc426bcdd7",
   "metadata": {},
   "outputs": [],
   "source": [
    ".PATH:  ${NETBSDSRCDIR}/minix/lib/libc/sys\n",
    "\n",
    "# added\n",
    "SRCS+=  accept.c access.c adjtime.c bind.c brk.c sbrk.c m_closefrom.c getsid.c \\\n",
    "    chdir.c chmod.c fchmod.c chown.c fchown.c chroot.c close.c \\\n",
    "    clock_getres.c clock_gettime.c clock_settime.c \\\n",
    "    connect.c dup.c dup2.c execve.c fcntl.c flock.c fpathconf.c chrt.c fork.c \\\n",
    "    fstatfs.c fstatvfs.c fsync.c ftruncate.c gcov_flush_sys.c getdents.c \\"
   ]
  },
  {
   "cell_type": "markdown",
   "id": "70b49705-dadd-45ab-83ce-3f6eeec4c01c",
   "metadata": {},
   "source": [
    "#### 服务层\n",
    "在服务层中，`do_chrt`函数将调用`sys_chrt`函数，将deadline传递到内核。\n",
    "\n",
    "在`/usr/src/minix/servers/pm/proto.h`中添加`do_chrt`函数定义。这个函数的定义被添加在`proto.h`文件的最后。"
   ]
  },
  {
   "cell_type": "code",
   "execution_count": null,
   "id": "a0c231fb-a0cf-4896-833a-05a459bbf141",
   "metadata": {},
   "outputs": [],
   "source": [
    "/* utility.c */\n",
    "pid_t get_free_pid(void);\n",
    "char *find_param(const char *key);\n",
    "struct mproc *find_proc(pid_t lpid);\n",
    "int nice_to_priority(int nice, unsigned *new_q);\n",
    "int pm_isokendpt(int ep, int *proc);\n",
    "void tell_vfs(struct mproc *rmp, message *m_ptr);\n",
    "\n",
    "/* chrt.c */\n",
    "int do_chrt(void);"
   ]
  },
  {
   "cell_type": "markdown",
   "id": "f1399c71-f30d-4696-88a4-eb6614f37efe",
   "metadata": {},
   "source": [
    "在`/usr/src/minix/servers/pm/chrt.c`中添加`do_chrt`函数实现，把进程号和消息结构体中的deadline传递给`sys_chrt()`并调用`sys_chrt()`："
   ]
  },
  {
   "cell_type": "code",
   "execution_count": null,
   "id": "64c3da1e-ef35-4ac6-a4bc-be4184340457",
   "metadata": {},
   "outputs": [],
   "source": [
    "#include \"pm.h\"\n",
    "#include <minix/syslib.h>\n",
    "#include <minix/callnr.h>\n",
    "#include <sys/wait.h>\n",
    "#include <minix/com.h>\n",
    "#include <minix/vm.h>\n",
    "#include \"mproc.h\"\n",
    "#include <sys/ptrace.h>\n",
    "#include <sys/resource.h>\n",
    "#include <signal.h>\n",
    "#include <stdio.h>\n",
    "#include <minix/sched.h>\n",
    "#include <assert.h>\n",
    "int do_chrt()\n",
    "{\n",
    "    sys_chrt(who_p,m_in.m2_l1);//get process information and call sys_chrt\n",
    "    return OK;\n",
    "}"
   ]
  },
  {
   "cell_type": "markdown",
   "id": "07754270-98c5-47b6-adbe-9a8cc08bcb3f",
   "metadata": {},
   "source": [
    "在`/usr/src/minix/include/minix/callnr.h`中定义`PM_CHRT`编号："
   ]
  },
  {
   "cell_type": "code",
   "execution_count": null,
   "id": "c39cb561-2fe8-489b-a653-0d5e8cdad34e",
   "metadata": {},
   "outputs": [],
   "source": [
    "#define PM_GETSYSINFO (PM_BASE + 47)\n",
    "#define PM_CHRT (PM_BASE + 48)\n",
    "\n",
    "#define NR_PM_CALLS 49/* highest number from base plus one */"
   ]
  },
  {
   "cell_type": "markdown",
   "id": "089d8d76-3172-4437-b5fe-6871bd61df0e",
   "metadata": {
    "tags": []
   },
   "source": [
    "在`/usr/src/minix/servers/pm/Makefile`中添加`chrt.c`条目："
   ]
  },
  {
   "cell_type": "code",
   "execution_count": null,
   "id": "47322a26-dfc2-43e3-b528-8e25eabfed80",
   "metadata": {},
   "outputs": [],
   "source": [
    ".include <bsd.own.mk>\n",
    "\n",
    "# Makefile for Process Manager (PM)\n",
    "PROG=   pm\n",
    "SRCS=   main.c forkexit.c exec.c time.c alarm.c \\\n",
    "    signal.c utility.c table.c trace.c getset.c misc.c \\\n",
    "    profile.c mcontext.c schedule.c chrt.c"
   ]
  },
  {
   "cell_type": "markdown",
   "id": "d7a245bb-5dc5-4744-a062-41d011c6ba61",
   "metadata": {},
   "source": [
    "在`/usr/src/minix/servers/pm/table.c`中调用映射表。定义好以后，应用层的`chrt`函数调用`_syscall(PM_PROC_NR,PM_CHRT,&m)`系统调用后，服务层就会调用`do_chrt`函数。"
   ]
  },
  {
   "cell_type": "code",
   "execution_count": null,
   "id": "66c0d7d3-254e-47c2-b80c-ec73eeea0979",
   "metadata": {},
   "outputs": [],
   "source": [
    "    CALL(PM_GETSYSINFO) = do_getsysinfo,     /* getsysinfo(2) */\n",
    "    CALL(PM_CHRT) = do_chrt\n",
    "};"
   ]
  },
  {
   "cell_type": "markdown",
   "id": "90391b4d-d7fc-4ba8-8c87-0d1a93ff7ef2",
   "metadata": {},
   "source": [
    "在`/usr/src/minix/include/minix/syslib.h`中添加`sys_chrt()`定义："
   ]
  },
  {
   "cell_type": "code",
   "execution_count": null,
   "id": "336961d3-c33b-4871-b9a1-376f89e0e64c",
   "metadata": {},
   "outputs": [],
   "source": [
    "int copyfd(endpoint_t endpt, int fd, int what);\n",
    "int sys_chrt(endpoint_t proc_ep,long deadline);\n",
    "#define COPYFD_FROM 0   /* copy file descriptor from remote process */"
   ]
  },
  {
   "cell_type": "markdown",
   "id": "ff2f1659-0850-4a24-bc36-cd6a9d0dcffd",
   "metadata": {},
   "source": [
    "在`/usr/src/minix/lib/libsys/sys_chrt.c`中添加`sys_chrt()`实现。这个函数传入进程号和deadline，把它们存入消息结构体`m`中并通过`_kernel_call`把消息结构体`m`传进内核。"
   ]
  },
  {
   "cell_type": "code",
   "execution_count": null,
   "id": "f9678688-03a0-4c6e-bfe4-aad6b007d4fa",
   "metadata": {},
   "outputs": [],
   "source": [
    "#include \"syslib.h\"\n",
    "int sys_chrt(endpoint_t proc_ep,long deadline)\n",
    "{\n",
    "    int r;\n",
    "    message m;\n",
    "    //save process id and deadline into m\n",
    "    m.m2_i1=proc_ep;\n",
    "    m.m2_l1=deadline;\n",
    "    //conduct kernal call\n",
    "    r=_kernel_call(SYS_CHRT,&m);\n",
    "    return r;\n",
    "}"
   ]
  },
  {
   "cell_type": "markdown",
   "id": "11fbffff-04e2-42f5-88c5-d2c2dc830875",
   "metadata": {},
   "source": [
    "在`/usr/src/minix/lib/libsys`中的`Makefile`中添加`sys_chrt.c`条目："
   ]
  },
  {
   "cell_type": "code",
   "execution_count": null,
   "id": "301c5a08-4b5d-4477-b86f-c235e46bec3a",
   "metadata": {},
   "outputs": [],
   "source": [
    "SRCS+=  \\\n",
    "    alloc_util.c \\\n",
    "    ...\n",
    "    sys_clear.c \\\n",
    "    sys_chrt.c \\\n",
    "    sys_cprof.c \\\n",
    "    ...\n",
    "    vm_update.c"
   ]
  },
  {
   "cell_type": "markdown",
   "id": "b8bd3628-51cb-45a3-8e11-9dd2a93002ed",
   "metadata": {},
   "source": [
    "#### 内核层\n",
    "在内核层中，我们将通过`do_chrt`函数，用消息结构体中的进程号定位到相应进程，在进程结构体中添加`deadline`项目并调用`chrt`的进程的`deadline`修改为消息结构体中传来的deadline。\n",
    "\n",
    "在`/usr/src/minix/kernel/system.h`中添加`do_chrt`函数定义。这个定义被加在文件的最后。"
   ]
  },
  {
   "cell_type": "code",
   "execution_count": null,
   "id": "3ee8a6ab-cebb-485b-9128-5f1ddadda2d7",
   "metadata": {},
   "outputs": [],
   "source": [
    "int do_chrt(struct proc * caller, message *m_ptr);\n",
    "#if ! USE_CHRT\n",
    "#define do_chrt NULL\n",
    "#endif\n",
    "\n",
    "#endif /* SYSTEM_H */"
   ]
  },
  {
   "cell_type": "markdown",
   "id": "51327b15-08b0-4dcb-a2e1-1ff8f4a6ff94",
   "metadata": {},
   "source": [
    "在`/usr/src/minix/kernel/system/do_chrt.c`中添加`do_chrt`函数实现。这个函数通过进程号定位到相应进程，并将该进程结构体中的`deadline`条目修改为函数传入的消息结构体中存放的deadline。"
   ]
  },
  {
   "cell_type": "code",
   "execution_count": null,
   "id": "248aff81-02b7-4927-b754-6ac4e91bf203",
   "metadata": {},
   "outputs": [],
   "source": [
    "#include \"kernel/system.h\"\n",
    "#include \"kernel/vm.h\"\n",
    "#include <signal.h>\n",
    "#include <string.h>\n",
    "#include <assert.h>\n",
    "\n",
    "#include <minix/endpoint.h>\n",
    "#include <minix/u64.h>\n",
    "\n",
    "#if USE_CHRT\n",
    "\n",
    "int do_chrt(struct proc *caller, message *m_ptr)\n",
    "{\n",
    "    struct proc *rp;\n",
    "    long exp_time;\n",
    "    exp_time = m_ptr->m2_l1;\n",
    "    //find the address of process in kernal\n",
    "    rp = proc_addr(m_ptr->m2_i1);\n",
    "    //set the process's deadline\n",
    "    rp->deadline = exp_time;\n",
    "    return (OK);\n",
    "}\n",
    "\n",
    "#endif /* USE_CHRT */"
   ]
  },
  {
   "cell_type": "markdown",
   "id": "db4d748c-5d03-4c24-8ced-cbb669e258ed",
   "metadata": {},
   "source": [
    "在`/usr/src/minix/kernel/system/`中`Makefile.inc`文件添加`do_chrt.c`条目："
   ]
  },
  {
   "cell_type": "code",
   "execution_count": null,
   "id": "349cba78-78c6-4ea7-8fcb-a64855262d78",
   "metadata": {},
   "outputs": [],
   "source": [
    "SRCS+=  \\\n",
    "    ...\n",
    "    do_statectl.c \\\n",
    "    do_chrt.c"
   ]
  },
  {
   "cell_type": "markdown",
   "id": "271cdccf-b576-4f81-b280-21a47ebf269b",
   "metadata": {},
   "source": [
    "在`/usr/src/minix/include/minix/com.h`中定义`SYS_CHRT`编号："
   ]
  },
  {
   "cell_type": "code",
   "execution_count": null,
   "id": "695ca535-10d1-4740-8dc4-a595f78c3194",
   "metadata": {},
   "outputs": [],
   "source": [
    "#  define SYS_PADCONF (KERNEL_CALL + 57)   /* sys_padconf() */\n",
    "\n",
    "#  define SYS_CHRT (KERNEL_CALL + 58)\n",
    "/* Total */\n",
    "#define NR_SYS_CALLS   59 /* number of kernel calls */"
   ]
  },
  {
   "cell_type": "markdown",
   "id": "da0bdaa3-4810-4ca4-b5e1-18349efb293c",
   "metadata": {},
   "source": [
    "在`/usr/src/minix/kernel/system.c`中添加`SYS_CHRT`编号到`do_chrt`的映射。定义好以后，服务层的`sys_chrt`函数调用的`_kernel_call(SYS_CHRT,&m)`会调用内核层的`do_chrt`函数，并把消息结构体`m`作为`do_chrt`函数的输入之一。"
   ]
  },
  {
   "cell_type": "code",
   "execution_count": null,
   "id": "75e76684-6c88-4a66-9e6d-5a366b0532f2",
   "metadata": {},
   "outputs": [],
   "source": [
    "  /* Process management. */\n",
    "  ...\n",
    "  map(SYS_STATECTL, do_statectl);/* let a process control its state */\n",
    "  map(SYS_CHRT,do_chrt);"
   ]
  },
  {
   "cell_type": "markdown",
   "id": "a9b80136-cd9b-46e2-a17f-941da9cc7cd2",
   "metadata": {},
   "source": [
    "在`/usr/src/minix/commands/service/parse.c`的`system_tab`中添加名称编号对："
   ]
  },
  {
   "cell_type": "code",
   "execution_count": null,
   "id": "a7f312ff-9ce2-4369-9287-a57373dee58f",
   "metadata": {},
   "outputs": [],
   "source": [
    "system_tab[]=\n",
    "{\n",
    "    ...\n",
    "    { \"CHRT\",       SYS_CHRT},\n",
    "    { NULL,   0 }\n",
    "};"
   ]
  },
  {
   "cell_type": "markdown",
   "id": "097579c7-d347-414a-99f0-5e9135689fa3",
   "metadata": {},
   "source": [
    "最后，在`/usr/src/minix/kernel/proc.h`中定义的进程结构体中添加`deadline`条目："
   ]
  },
  {
   "cell_type": "code",
   "execution_count": null,
   "id": "083c794a-13a4-42e8-83ce-b1f1d26c50d0",
   "metadata": {},
   "outputs": [],
   "source": [
    "struct proc {\n",
    "  ...\n",
    "  long deadline;/* deadline of the process */\n",
    "  ...\n",
    "}"
   ]
  },
  {
   "cell_type": "markdown",
   "id": "65c80046-feed-4f00-a081-f80a2c5e5d77",
   "metadata": {},
   "source": [
    "### II.将MINIX中的进程调度算法修改为EDF算法\n",
    "该部分旨在将MINIX操作系统中的进程调度算法从时间片轮换改为EDF算法。所有的修改均在`/usr/src/minix/kernel/proc.c`中进行。\n",
    "\n",
    "MINIX操作系统采用多级调度算法。所有进程按照其优先级被放进十六个进程队列，队列号越小，进程优先级越高。操作系统总是优先执行优先级较高的进程；在队列内部则采用时间片轮换。我们希望我们设置了deadline的进程优先级比较高，否则测试实验结果时效果不好。又由于第零层到第四层都是系统进程，所以我们把调用了`chrt`的进程全部放在第五个进程队列里。所以，在`proc.c`中按照优先级向队首队尾加进程的两个函数`enqueue_head()`和`enqueue()`中，我们需要将所有调用过`chrt`的实时进程放进第五个进程队列："
   ]
  },
  {
   "cell_type": "code",
   "execution_count": null,
   "id": "f296abb1-ac32-4002-8ab9-d208991360ae",
   "metadata": {},
   "outputs": [],
   "source": [
    "/*===========================================================================*\n",
    " *                     enqueue                  * \n",
    " *===========================================================================*/\n",
    "void enqueue(\n",
    "  register struct proc *rp/* this process is now runnable */\n",
    ")\n",
    "{\n",
    "/* Add 'rp' to one of the queues of runnable processes.  This function is \n",
    " * responsible for inserting a process into one of the scheduling queues. \n",
    " * The mechanism is implemented here.   The actual scheduling policy is\n",
    " * defined in sched() and pick_proc().\n",
    " *\n",
    " * This function can be used x-cpu as it always uses the queues of the cpu the\n",
    " * process is assigned to.\n",
    " */\n",
    "  if (rp->deadline>0)\n",
    "  {\n",
    "    rp->p_priority=5;\n",
    "  }\n",
    "  \n",
    "  ...\n",
    "}"
   ]
  },
  {
   "cell_type": "markdown",
   "id": "f84d7d5c-72be-4d76-94a2-ab6b05bf9215",
   "metadata": {},
   "source": [
    "对`enqueue_head()`的修改也是一样的。\n",
    "\n",
    "下面，我们来着重看一看`pick_proc()`函数。它从队列中返回一个可调度的进程。"
   ]
  },
  {
   "cell_type": "code",
   "execution_count": null,
   "id": "bf642280-af44-45c8-883b-cae2a0a47472",
   "metadata": {},
   "outputs": [],
   "source": [
    "/*===========================================================================*\n",
    " *                    pick_proc                   * \n",
    " *===========================================================================*/\n",
    "static struct proc * pick_proc(void)\n",
    "{\n",
    "/* Decide who to run now.  A new process is selected an returned.\n",
    " * When a billable process is selected, record it in 'bill_ptr', so that the \n",
    " * clock task can tell who to bill for system time.\n",
    " *\n",
    " * This function always uses the run queues of the local cpu!\n",
    " */\n",
    "  register struct proc *rp;/* process to run */\n",
    "  register struct proc *next_process;/* process to run */\n",
    "  struct proc **rdy_head;\n",
    "  int q;/* iterate over queues */\n",
    "  \n",
    "\n",
    "  /* Check each of the scheduling queues for ready processes. The number of\n",
    "   * queues is defined in proc.h, and priorities are set in the task table.\n",
    "   * If there are no processes ready to run, return NULL.\n",
    "   */\n",
    "  rdy_head = get_cpulocal_var(run_q_head);\n",
    "  for (q=0; q < NR_SCHED_QUEUES; q++) {\n",
    "    if(!(rp = rdy_head[q])) {\n",
    "        TRACE(VF_PICKPROC, printf(\"cpu %d queue %d empty\\n\", cpuid, q););\n",
    "        continue;\n",
    "    }\n",
    "    //if we've set a deadline for this process\n",
    "    if (q==5)\n",
    "    {\n",
    "        rp = rdy_head[q];\n",
    "        next_process = rp->p_nextready;\n",
    "        //search the whole queue for the process with the earliest deadline \n",
    "        while(next_process!=NULL)\n",
    "        {\n",
    "            if(next_process->deadline>0)\n",
    "            {\n",
    "                if(rp->deadline==0||(rp->deadline>next_process->deadline))\n",
    "                {\n",
    "                    if(proc_is_runnable(next_process))\n",
    "                    {\n",
    "                        rp=next_process;\n",
    "                    }\n",
    "                }\n",
    "            }\n",
    "            next_process = next_process->p_nextready;\n",
    "        }\n",
    "    }\n",
    "    assert(proc_is_runnable(rp));\n",
    "    if (priv(rp)->s_flags & BILLABLE)\n",
    "        get_cpulocal_var(bill_ptr) = rp; /* bill for system time */\n",
    "    return rp;\n",
    "  }\n",
    "  return NULL;\n",
    "}"
   ]
  },
  {
   "cell_type": "markdown",
   "id": "fe58b3ef-9181-48a9-9248-48f8dc80cfea",
   "metadata": {},
   "source": [
    "这里，`rp`就是那个会被`pick_proc()`函数返回的、将要被调度的进程。我们只关心第五个进程列表中的调度算法。首先，`rp`被赋值为第五个进程列表首部的进程。然后，进程结构体变量`next_process`通过`while`循环遍历整个进程列表。在每一次迭代中，如果`next_process`的deadline比`rp`的更早（也就是说，`next_process`优先级更高），那么`rp`的值就会被赋为`next_process`。当整个进程列表都被遍历完以后，`rp`一定是整个进程列表中deadline最早的进程。它将会被`pick_proc()`返回，并被操作系统调度。\n",
    "## 实验结果\n",
    "在运行了`test_code.c`中的测试代码以后，结果如下所示："
   ]
  },
  {
   "cell_type": "code",
   "execution_count": null,
   "id": "7c354ef7-c941-4114-9e0c-50ce5003ca5a",
   "metadata": {},
   "outputs": [],
   "source": [
    "# ./test_lab2\n",
    "proc1 set success\n",
    "proc2 set success\n",
    "proc3 set success\n",
    "prc2 heart beat 1\n",
    "prc1 heart beat 1\n",
    "prc3 heart beat 1\n",
    "prc2 heart beat 2\n",
    "prc1 heart beat 2\n",
    "prc3 heart beat 2\n",
    "prc2 heart beat 3\n",
    "prc1 heart beat 3\n",
    "prc3 heart beat 3\n",
    "prc2 heart beat 4\n",
    "prc1 heart beat 4\n",
    "prc3 heart beat 4\n",
    "Change proc1 deadline to 5s\n",
    "prc1 heart beat 5\n",
    "prc2 heart beat 5\n",
    "prc3 heart beat 5\n",
    "prc1 heart beat 6\n",
    "prc2 heart beat 6\n",
    "prc3 heart beat 6\n",
    "prc1 heart beat 7\n",
    "prc2 heart beat 7\n",
    "prc3 heart beat 7\n",
    "prc1 heart beat 8\n",
    "prc2 heart beat 8\n",
    "prc3 heart beat 8\n",
    "prc2 heart beat 9\n",
    "prc3 heart beat 9\n",
    "Change proc3 deadline to 3s\n",
    "prc3 heart beat 10\n",
    "prc2 heart beat 10\n",
    "prc3 heart beat 11\n",
    "prc2 heart beat 11\n",
    "prc2 heart beat 12\n",
    "prc2 heart beat 13\n",
    "#"
   ]
  },
  {
   "cell_type": "markdown",
   "id": "10532878-9b39-4095-8c8a-0d513b9c9e07",
   "metadata": {},
   "source": [
    "在一开始，进程一、进程二的deadline分别被设置成开始时刻$+25$、开始时刻$+15$，进程三不是实时进程，它只是普通进程。所以，三个进程的优先级从大到小应该是进程二、进程一、进程三。第五秒时进程一调用`chrt(5)`，其deadline被修改为第五秒的时刻再加五秒钟（也就是开始时刻$+10$）。所以，这时三个进程的优先级从大到小应该是进程一、进程二、进程三。第十秒时，进程一因为到达其deadline而被强制结束，而进程三调用了`chrt(3)`，其deadline被修改为第十秒的时刻再加三秒钟（也就是开始时刻$+13$）。所以，从第十秒开始，仅剩的两个进程的优先级从大到小应该是进程三、进程二。所以，上面的运行结果应该是正确的。"
   ]
  }
 ],
 "metadata": {
  "kernelspec": {
   "display_name": "C++17",
   "language": "C++17",
   "name": "xcpp17"
  },
  "language_info": {
   "codemirror_mode": "text/x-c++src",
   "file_extension": ".cpp",
   "mimetype": "text/x-c++src",
   "name": "c++",
   "version": "17"
  }
 },
 "nbformat": 4,
 "nbformat_minor": 5
}
